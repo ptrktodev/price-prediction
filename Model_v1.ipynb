{
 "cells": [
  {
   "cell_type": "code",
   "execution_count": 5,
   "id": "88ea9c0a-d11f-4429-944e-5cb0b0f0daf8",
   "metadata": {},
   "outputs": [],
   "source": [
    "import pandas as pd\n",
    "import numpy as np"
   ]
  },
  {
   "cell_type": "code",
   "execution_count": 6,
   "id": "41d08adb-acbd-4449-80dc-8fa7f0387427",
   "metadata": {},
   "outputs": [],
   "source": [
    "df = pd.read_csv(\"data.csv\")"
   ]
  },
  {
   "cell_type": "code",
   "execution_count": 7,
   "id": "4d02f52b-bad4-413b-bfee-49bdcf92f095",
   "metadata": {},
   "outputs": [
    {
     "data": {
      "text/html": [
       "<div>\n",
       "<style scoped>\n",
       "    .dataframe tbody tr th:only-of-type {\n",
       "        vertical-align: middle;\n",
       "    }\n",
       "\n",
       "    .dataframe tbody tr th {\n",
       "        vertical-align: top;\n",
       "    }\n",
       "\n",
       "    .dataframe thead th {\n",
       "        text-align: right;\n",
       "    }\n",
       "</style>\n",
       "<table border=\"1\" class=\"dataframe\">\n",
       "  <thead>\n",
       "    <tr style=\"text-align: right;\">\n",
       "      <th></th>\n",
       "      <th>Price</th>\n",
       "      <th>Condo</th>\n",
       "      <th>Size</th>\n",
       "      <th>Rooms</th>\n",
       "      <th>Toilets</th>\n",
       "      <th>Suites</th>\n",
       "      <th>Parking</th>\n",
       "      <th>Elevator</th>\n",
       "      <th>Furnished</th>\n",
       "      <th>Swimming Pool</th>\n",
       "      <th>New</th>\n",
       "    </tr>\n",
       "  </thead>\n",
       "  <tbody>\n",
       "    <tr>\n",
       "      <th>0</th>\n",
       "      <td>930</td>\n",
       "      <td>220</td>\n",
       "      <td>47</td>\n",
       "      <td>2</td>\n",
       "      <td>2</td>\n",
       "      <td>1</td>\n",
       "      <td>1</td>\n",
       "      <td>0</td>\n",
       "      <td>0</td>\n",
       "      <td>0</td>\n",
       "      <td>0</td>\n",
       "    </tr>\n",
       "    <tr>\n",
       "      <th>1</th>\n",
       "      <td>1000</td>\n",
       "      <td>148</td>\n",
       "      <td>45</td>\n",
       "      <td>2</td>\n",
       "      <td>2</td>\n",
       "      <td>1</td>\n",
       "      <td>1</td>\n",
       "      <td>0</td>\n",
       "      <td>0</td>\n",
       "      <td>0</td>\n",
       "      <td>0</td>\n",
       "    </tr>\n",
       "    <tr>\n",
       "      <th>2</th>\n",
       "      <td>1000</td>\n",
       "      <td>100</td>\n",
       "      <td>48</td>\n",
       "      <td>2</td>\n",
       "      <td>2</td>\n",
       "      <td>1</td>\n",
       "      <td>1</td>\n",
       "      <td>0</td>\n",
       "      <td>0</td>\n",
       "      <td>0</td>\n",
       "      <td>0</td>\n",
       "    </tr>\n",
       "    <tr>\n",
       "      <th>3</th>\n",
       "      <td>1000</td>\n",
       "      <td>200</td>\n",
       "      <td>48</td>\n",
       "      <td>2</td>\n",
       "      <td>2</td>\n",
       "      <td>1</td>\n",
       "      <td>1</td>\n",
       "      <td>0</td>\n",
       "      <td>0</td>\n",
       "      <td>0</td>\n",
       "      <td>0</td>\n",
       "    </tr>\n",
       "    <tr>\n",
       "      <th>4</th>\n",
       "      <td>1300</td>\n",
       "      <td>410</td>\n",
       "      <td>55</td>\n",
       "      <td>2</td>\n",
       "      <td>2</td>\n",
       "      <td>1</td>\n",
       "      <td>1</td>\n",
       "      <td>1</td>\n",
       "      <td>0</td>\n",
       "      <td>0</td>\n",
       "      <td>0</td>\n",
       "    </tr>\n",
       "    <tr>\n",
       "      <th>...</th>\n",
       "      <td>...</td>\n",
       "      <td>...</td>\n",
       "      <td>...</td>\n",
       "      <td>...</td>\n",
       "      <td>...</td>\n",
       "      <td>...</td>\n",
       "      <td>...</td>\n",
       "      <td>...</td>\n",
       "      <td>...</td>\n",
       "      <td>...</td>\n",
       "      <td>...</td>\n",
       "    </tr>\n",
       "    <tr>\n",
       "      <th>5759</th>\n",
       "      <td>3900</td>\n",
       "      <td>850</td>\n",
       "      <td>48</td>\n",
       "      <td>1</td>\n",
       "      <td>2</td>\n",
       "      <td>1</td>\n",
       "      <td>1</td>\n",
       "      <td>0</td>\n",
       "      <td>1</td>\n",
       "      <td>1</td>\n",
       "      <td>0</td>\n",
       "    </tr>\n",
       "    <tr>\n",
       "      <th>5760</th>\n",
       "      <td>4500</td>\n",
       "      <td>750</td>\n",
       "      <td>68</td>\n",
       "      <td>2</td>\n",
       "      <td>2</td>\n",
       "      <td>1</td>\n",
       "      <td>1</td>\n",
       "      <td>0</td>\n",
       "      <td>0</td>\n",
       "      <td>1</td>\n",
       "      <td>0</td>\n",
       "    </tr>\n",
       "    <tr>\n",
       "      <th>5761</th>\n",
       "      <td>3000</td>\n",
       "      <td>610</td>\n",
       "      <td>51</td>\n",
       "      <td>1</td>\n",
       "      <td>1</td>\n",
       "      <td>0</td>\n",
       "      <td>1</td>\n",
       "      <td>0</td>\n",
       "      <td>1</td>\n",
       "      <td>1</td>\n",
       "      <td>0</td>\n",
       "    </tr>\n",
       "    <tr>\n",
       "      <th>5762</th>\n",
       "      <td>3700</td>\n",
       "      <td>595</td>\n",
       "      <td>73</td>\n",
       "      <td>1</td>\n",
       "      <td>2</td>\n",
       "      <td>1</td>\n",
       "      <td>1</td>\n",
       "      <td>0</td>\n",
       "      <td>0</td>\n",
       "      <td>1</td>\n",
       "      <td>0</td>\n",
       "    </tr>\n",
       "    <tr>\n",
       "      <th>5763</th>\n",
       "      <td>5000</td>\n",
       "      <td>2354</td>\n",
       "      <td>205</td>\n",
       "      <td>3</td>\n",
       "      <td>2</td>\n",
       "      <td>1</td>\n",
       "      <td>2</td>\n",
       "      <td>1</td>\n",
       "      <td>0</td>\n",
       "      <td>0</td>\n",
       "      <td>0</td>\n",
       "    </tr>\n",
       "  </tbody>\n",
       "</table>\n",
       "<p>5764 rows × 11 columns</p>\n",
       "</div>"
      ],
      "text/plain": [
       "      Price  Condo  Size  Rooms  Toilets  Suites  Parking  Elevator  \\\n",
       "0       930    220    47      2        2       1        1         0   \n",
       "1      1000    148    45      2        2       1        1         0   \n",
       "2      1000    100    48      2        2       1        1         0   \n",
       "3      1000    200    48      2        2       1        1         0   \n",
       "4      1300    410    55      2        2       1        1         1   \n",
       "...     ...    ...   ...    ...      ...     ...      ...       ...   \n",
       "5759   3900    850    48      1        2       1        1         0   \n",
       "5760   4500    750    68      2        2       1        1         0   \n",
       "5761   3000    610    51      1        1       0        1         0   \n",
       "5762   3700    595    73      1        2       1        1         0   \n",
       "5763   5000   2354   205      3        2       1        2         1   \n",
       "\n",
       "      Furnished  Swimming Pool  New  \n",
       "0             0              0    0  \n",
       "1             0              0    0  \n",
       "2             0              0    0  \n",
       "3             0              0    0  \n",
       "4             0              0    0  \n",
       "...         ...            ...  ...  \n",
       "5759          1              1    0  \n",
       "5760          0              1    0  \n",
       "5761          1              1    0  \n",
       "5762          0              1    0  \n",
       "5763          0              0    0  \n",
       "\n",
       "[5764 rows x 11 columns]"
      ]
     },
     "execution_count": 7,
     "metadata": {},
     "output_type": "execute_result"
    }
   ],
   "source": [
    "df"
   ]
  },
  {
   "cell_type": "markdown",
   "id": "065af503-9b6b-479a-9202-708c7d829380",
   "metadata": {},
   "source": [
    "## **Split Dataset**"
   ]
  },
  {
   "cell_type": "code",
   "execution_count": null,
   "id": "df9b308e-cd43-4bce-8221-15577b98b105",
   "metadata": {},
   "outputs": [],
   "source": []
  },
  {
   "cell_type": "code",
   "execution_count": 8,
   "id": "7d318e3f-14e7-4c02-b109-c852da31e047",
   "metadata": {},
   "outputs": [
    {
     "ename": "ModuleNotFoundError",
     "evalue": "No module named 'sklearn'",
     "output_type": "error",
     "traceback": [
      "\u001b[0;31m---------------------------------------------------------------------------\u001b[0m",
      "\u001b[0;31mModuleNotFoundError\u001b[0m                       Traceback (most recent call last)",
      "Cell \u001b[0;32mIn[8], line 1\u001b[0m\n\u001b[0;32m----> 1\u001b[0m \u001b[38;5;28;01mfrom\u001b[39;00m \u001b[38;5;21;01msklearn\u001b[39;00m\u001b[38;5;21;01m.\u001b[39;00m\u001b[38;5;21;01mmodel_selection\u001b[39;00m \u001b[38;5;28;01mimport\u001b[39;00m train_test_split\n",
      "\u001b[0;31mModuleNotFoundError\u001b[0m: No module named 'sklearn'"
     ]
    }
   ],
   "source": [
    "from sklearn.model_selection import train_test_split"
   ]
  },
  {
   "cell_type": "code",
   "execution_count": 30,
   "id": "a0bf8f50-18ca-429c-ba40-67b419d07ac6",
   "metadata": {},
   "outputs": [],
   "source": [
    "y = df[\"Price\"]\n",
    "x = df.loc[: , df.columns != \"Price\"]"
   ]
  },
  {
   "cell_type": "code",
   "execution_count": 31,
   "id": "4ea28ee6-9af7-4c31-b32d-8ed4c9d2deab",
   "metadata": {},
   "outputs": [],
   "source": [
    "X_train, X_test, y_train, y_test = train_test_split(x, y, test_size=0.3)"
   ]
  },
  {
   "cell_type": "markdown",
   "id": "155bec5e-e3c0-4555-8d77-a57f6cab1bd0",
   "metadata": {},
   "source": [
    "## **Linear Regression**"
   ]
  },
  {
   "cell_type": "code",
   "execution_count": 32,
   "id": "7ab72ce6-a066-45ac-81a3-1626e067b819",
   "metadata": {},
   "outputs": [],
   "source": [
    "from sklearn.linear_model import LinearRegression"
   ]
  },
  {
   "cell_type": "code",
   "execution_count": 33,
   "id": "25d1afc9-ba55-4e4a-8d9e-eb9cf7602052",
   "metadata": {},
   "outputs": [
    {
     "data": {
      "text/html": [
       "<style>#sk-container-id-2 {\n",
       "  /* Definition of color scheme common for light and dark mode */\n",
       "  --sklearn-color-text: black;\n",
       "  --sklearn-color-line: gray;\n",
       "  /* Definition of color scheme for unfitted estimators */\n",
       "  --sklearn-color-unfitted-level-0: #fff5e6;\n",
       "  --sklearn-color-unfitted-level-1: #f6e4d2;\n",
       "  --sklearn-color-unfitted-level-2: #ffe0b3;\n",
       "  --sklearn-color-unfitted-level-3: chocolate;\n",
       "  /* Definition of color scheme for fitted estimators */\n",
       "  --sklearn-color-fitted-level-0: #f0f8ff;\n",
       "  --sklearn-color-fitted-level-1: #d4ebff;\n",
       "  --sklearn-color-fitted-level-2: #b3dbfd;\n",
       "  --sklearn-color-fitted-level-3: cornflowerblue;\n",
       "\n",
       "  /* Specific color for light theme */\n",
       "  --sklearn-color-text-on-default-background: var(--sg-text-color, var(--theme-code-foreground, var(--jp-content-font-color1, black)));\n",
       "  --sklearn-color-background: var(--sg-background-color, var(--theme-background, var(--jp-layout-color0, white)));\n",
       "  --sklearn-color-border-box: var(--sg-text-color, var(--theme-code-foreground, var(--jp-content-font-color1, black)));\n",
       "  --sklearn-color-icon: #696969;\n",
       "\n",
       "  @media (prefers-color-scheme: dark) {\n",
       "    /* Redefinition of color scheme for dark theme */\n",
       "    --sklearn-color-text-on-default-background: var(--sg-text-color, var(--theme-code-foreground, var(--jp-content-font-color1, white)));\n",
       "    --sklearn-color-background: var(--sg-background-color, var(--theme-background, var(--jp-layout-color0, #111)));\n",
       "    --sklearn-color-border-box: var(--sg-text-color, var(--theme-code-foreground, var(--jp-content-font-color1, white)));\n",
       "    --sklearn-color-icon: #878787;\n",
       "  }\n",
       "}\n",
       "\n",
       "#sk-container-id-2 {\n",
       "  color: var(--sklearn-color-text);\n",
       "}\n",
       "\n",
       "#sk-container-id-2 pre {\n",
       "  padding: 0;\n",
       "}\n",
       "\n",
       "#sk-container-id-2 input.sk-hidden--visually {\n",
       "  border: 0;\n",
       "  clip: rect(1px 1px 1px 1px);\n",
       "  clip: rect(1px, 1px, 1px, 1px);\n",
       "  height: 1px;\n",
       "  margin: -1px;\n",
       "  overflow: hidden;\n",
       "  padding: 0;\n",
       "  position: absolute;\n",
       "  width: 1px;\n",
       "}\n",
       "\n",
       "#sk-container-id-2 div.sk-dashed-wrapped {\n",
       "  border: 1px dashed var(--sklearn-color-line);\n",
       "  margin: 0 0.4em 0.5em 0.4em;\n",
       "  box-sizing: border-box;\n",
       "  padding-bottom: 0.4em;\n",
       "  background-color: var(--sklearn-color-background);\n",
       "}\n",
       "\n",
       "#sk-container-id-2 div.sk-container {\n",
       "  /* jupyter's `normalize.less` sets `[hidden] { display: none; }`\n",
       "     but bootstrap.min.css set `[hidden] { display: none !important; }`\n",
       "     so we also need the `!important` here to be able to override the\n",
       "     default hidden behavior on the sphinx rendered scikit-learn.org.\n",
       "     See: https://github.com/scikit-learn/scikit-learn/issues/21755 */\n",
       "  display: inline-block !important;\n",
       "  position: relative;\n",
       "}\n",
       "\n",
       "#sk-container-id-2 div.sk-text-repr-fallback {\n",
       "  display: none;\n",
       "}\n",
       "\n",
       "div.sk-parallel-item,\n",
       "div.sk-serial,\n",
       "div.sk-item {\n",
       "  /* draw centered vertical line to link estimators */\n",
       "  background-image: linear-gradient(var(--sklearn-color-text-on-default-background), var(--sklearn-color-text-on-default-background));\n",
       "  background-size: 2px 100%;\n",
       "  background-repeat: no-repeat;\n",
       "  background-position: center center;\n",
       "}\n",
       "\n",
       "/* Parallel-specific style estimator block */\n",
       "\n",
       "#sk-container-id-2 div.sk-parallel-item::after {\n",
       "  content: \"\";\n",
       "  width: 100%;\n",
       "  border-bottom: 2px solid var(--sklearn-color-text-on-default-background);\n",
       "  flex-grow: 1;\n",
       "}\n",
       "\n",
       "#sk-container-id-2 div.sk-parallel {\n",
       "  display: flex;\n",
       "  align-items: stretch;\n",
       "  justify-content: center;\n",
       "  background-color: var(--sklearn-color-background);\n",
       "  position: relative;\n",
       "}\n",
       "\n",
       "#sk-container-id-2 div.sk-parallel-item {\n",
       "  display: flex;\n",
       "  flex-direction: column;\n",
       "}\n",
       "\n",
       "#sk-container-id-2 div.sk-parallel-item:first-child::after {\n",
       "  align-self: flex-end;\n",
       "  width: 50%;\n",
       "}\n",
       "\n",
       "#sk-container-id-2 div.sk-parallel-item:last-child::after {\n",
       "  align-self: flex-start;\n",
       "  width: 50%;\n",
       "}\n",
       "\n",
       "#sk-container-id-2 div.sk-parallel-item:only-child::after {\n",
       "  width: 0;\n",
       "}\n",
       "\n",
       "/* Serial-specific style estimator block */\n",
       "\n",
       "#sk-container-id-2 div.sk-serial {\n",
       "  display: flex;\n",
       "  flex-direction: column;\n",
       "  align-items: center;\n",
       "  background-color: var(--sklearn-color-background);\n",
       "  padding-right: 1em;\n",
       "  padding-left: 1em;\n",
       "}\n",
       "\n",
       "\n",
       "/* Toggleable style: style used for estimator/Pipeline/ColumnTransformer box that is\n",
       "clickable and can be expanded/collapsed.\n",
       "- Pipeline and ColumnTransformer use this feature and define the default style\n",
       "- Estimators will overwrite some part of the style using the `sk-estimator` class\n",
       "*/\n",
       "\n",
       "/* Pipeline and ColumnTransformer style (default) */\n",
       "\n",
       "#sk-container-id-2 div.sk-toggleable {\n",
       "  /* Default theme specific background. It is overwritten whether we have a\n",
       "  specific estimator or a Pipeline/ColumnTransformer */\n",
       "  background-color: var(--sklearn-color-background);\n",
       "}\n",
       "\n",
       "/* Toggleable label */\n",
       "#sk-container-id-2 label.sk-toggleable__label {\n",
       "  cursor: pointer;\n",
       "  display: block;\n",
       "  width: 100%;\n",
       "  margin-bottom: 0;\n",
       "  padding: 0.5em;\n",
       "  box-sizing: border-box;\n",
       "  text-align: center;\n",
       "}\n",
       "\n",
       "#sk-container-id-2 label.sk-toggleable__label-arrow:before {\n",
       "  /* Arrow on the left of the label */\n",
       "  content: \"▸\";\n",
       "  float: left;\n",
       "  margin-right: 0.25em;\n",
       "  color: var(--sklearn-color-icon);\n",
       "}\n",
       "\n",
       "#sk-container-id-2 label.sk-toggleable__label-arrow:hover:before {\n",
       "  color: var(--sklearn-color-text);\n",
       "}\n",
       "\n",
       "/* Toggleable content - dropdown */\n",
       "\n",
       "#sk-container-id-2 div.sk-toggleable__content {\n",
       "  max-height: 0;\n",
       "  max-width: 0;\n",
       "  overflow: hidden;\n",
       "  text-align: left;\n",
       "  /* unfitted */\n",
       "  background-color: var(--sklearn-color-unfitted-level-0);\n",
       "}\n",
       "\n",
       "#sk-container-id-2 div.sk-toggleable__content.fitted {\n",
       "  /* fitted */\n",
       "  background-color: var(--sklearn-color-fitted-level-0);\n",
       "}\n",
       "\n",
       "#sk-container-id-2 div.sk-toggleable__content pre {\n",
       "  margin: 0.2em;\n",
       "  border-radius: 0.25em;\n",
       "  color: var(--sklearn-color-text);\n",
       "  /* unfitted */\n",
       "  background-color: var(--sklearn-color-unfitted-level-0);\n",
       "}\n",
       "\n",
       "#sk-container-id-2 div.sk-toggleable__content.fitted pre {\n",
       "  /* unfitted */\n",
       "  background-color: var(--sklearn-color-fitted-level-0);\n",
       "}\n",
       "\n",
       "#sk-container-id-2 input.sk-toggleable__control:checked~div.sk-toggleable__content {\n",
       "  /* Expand drop-down */\n",
       "  max-height: 200px;\n",
       "  max-width: 100%;\n",
       "  overflow: auto;\n",
       "}\n",
       "\n",
       "#sk-container-id-2 input.sk-toggleable__control:checked~label.sk-toggleable__label-arrow:before {\n",
       "  content: \"▾\";\n",
       "}\n",
       "\n",
       "/* Pipeline/ColumnTransformer-specific style */\n",
       "\n",
       "#sk-container-id-2 div.sk-label input.sk-toggleable__control:checked~label.sk-toggleable__label {\n",
       "  color: var(--sklearn-color-text);\n",
       "  background-color: var(--sklearn-color-unfitted-level-2);\n",
       "}\n",
       "\n",
       "#sk-container-id-2 div.sk-label.fitted input.sk-toggleable__control:checked~label.sk-toggleable__label {\n",
       "  background-color: var(--sklearn-color-fitted-level-2);\n",
       "}\n",
       "\n",
       "/* Estimator-specific style */\n",
       "\n",
       "/* Colorize estimator box */\n",
       "#sk-container-id-2 div.sk-estimator input.sk-toggleable__control:checked~label.sk-toggleable__label {\n",
       "  /* unfitted */\n",
       "  background-color: var(--sklearn-color-unfitted-level-2);\n",
       "}\n",
       "\n",
       "#sk-container-id-2 div.sk-estimator.fitted input.sk-toggleable__control:checked~label.sk-toggleable__label {\n",
       "  /* fitted */\n",
       "  background-color: var(--sklearn-color-fitted-level-2);\n",
       "}\n",
       "\n",
       "#sk-container-id-2 div.sk-label label.sk-toggleable__label,\n",
       "#sk-container-id-2 div.sk-label label {\n",
       "  /* The background is the default theme color */\n",
       "  color: var(--sklearn-color-text-on-default-background);\n",
       "}\n",
       "\n",
       "/* On hover, darken the color of the background */\n",
       "#sk-container-id-2 div.sk-label:hover label.sk-toggleable__label {\n",
       "  color: var(--sklearn-color-text);\n",
       "  background-color: var(--sklearn-color-unfitted-level-2);\n",
       "}\n",
       "\n",
       "/* Label box, darken color on hover, fitted */\n",
       "#sk-container-id-2 div.sk-label.fitted:hover label.sk-toggleable__label.fitted {\n",
       "  color: var(--sklearn-color-text);\n",
       "  background-color: var(--sklearn-color-fitted-level-2);\n",
       "}\n",
       "\n",
       "/* Estimator label */\n",
       "\n",
       "#sk-container-id-2 div.sk-label label {\n",
       "  font-family: monospace;\n",
       "  font-weight: bold;\n",
       "  display: inline-block;\n",
       "  line-height: 1.2em;\n",
       "}\n",
       "\n",
       "#sk-container-id-2 div.sk-label-container {\n",
       "  text-align: center;\n",
       "}\n",
       "\n",
       "/* Estimator-specific */\n",
       "#sk-container-id-2 div.sk-estimator {\n",
       "  font-family: monospace;\n",
       "  border: 1px dotted var(--sklearn-color-border-box);\n",
       "  border-radius: 0.25em;\n",
       "  box-sizing: border-box;\n",
       "  margin-bottom: 0.5em;\n",
       "  /* unfitted */\n",
       "  background-color: var(--sklearn-color-unfitted-level-0);\n",
       "}\n",
       "\n",
       "#sk-container-id-2 div.sk-estimator.fitted {\n",
       "  /* fitted */\n",
       "  background-color: var(--sklearn-color-fitted-level-0);\n",
       "}\n",
       "\n",
       "/* on hover */\n",
       "#sk-container-id-2 div.sk-estimator:hover {\n",
       "  /* unfitted */\n",
       "  background-color: var(--sklearn-color-unfitted-level-2);\n",
       "}\n",
       "\n",
       "#sk-container-id-2 div.sk-estimator.fitted:hover {\n",
       "  /* fitted */\n",
       "  background-color: var(--sklearn-color-fitted-level-2);\n",
       "}\n",
       "\n",
       "/* Specification for estimator info (e.g. \"i\" and \"?\") */\n",
       "\n",
       "/* Common style for \"i\" and \"?\" */\n",
       "\n",
       ".sk-estimator-doc-link,\n",
       "a:link.sk-estimator-doc-link,\n",
       "a:visited.sk-estimator-doc-link {\n",
       "  float: right;\n",
       "  font-size: smaller;\n",
       "  line-height: 1em;\n",
       "  font-family: monospace;\n",
       "  background-color: var(--sklearn-color-background);\n",
       "  border-radius: 1em;\n",
       "  height: 1em;\n",
       "  width: 1em;\n",
       "  text-decoration: none !important;\n",
       "  margin-left: 1ex;\n",
       "  /* unfitted */\n",
       "  border: var(--sklearn-color-unfitted-level-1) 1pt solid;\n",
       "  color: var(--sklearn-color-unfitted-level-1);\n",
       "}\n",
       "\n",
       ".sk-estimator-doc-link.fitted,\n",
       "a:link.sk-estimator-doc-link.fitted,\n",
       "a:visited.sk-estimator-doc-link.fitted {\n",
       "  /* fitted */\n",
       "  border: var(--sklearn-color-fitted-level-1) 1pt solid;\n",
       "  color: var(--sklearn-color-fitted-level-1);\n",
       "}\n",
       "\n",
       "/* On hover */\n",
       "div.sk-estimator:hover .sk-estimator-doc-link:hover,\n",
       ".sk-estimator-doc-link:hover,\n",
       "div.sk-label-container:hover .sk-estimator-doc-link:hover,\n",
       ".sk-estimator-doc-link:hover {\n",
       "  /* unfitted */\n",
       "  background-color: var(--sklearn-color-unfitted-level-3);\n",
       "  color: var(--sklearn-color-background);\n",
       "  text-decoration: none;\n",
       "}\n",
       "\n",
       "div.sk-estimator.fitted:hover .sk-estimator-doc-link.fitted:hover,\n",
       ".sk-estimator-doc-link.fitted:hover,\n",
       "div.sk-label-container:hover .sk-estimator-doc-link.fitted:hover,\n",
       ".sk-estimator-doc-link.fitted:hover {\n",
       "  /* fitted */\n",
       "  background-color: var(--sklearn-color-fitted-level-3);\n",
       "  color: var(--sklearn-color-background);\n",
       "  text-decoration: none;\n",
       "}\n",
       "\n",
       "/* Span, style for the box shown on hovering the info icon */\n",
       ".sk-estimator-doc-link span {\n",
       "  display: none;\n",
       "  z-index: 9999;\n",
       "  position: relative;\n",
       "  font-weight: normal;\n",
       "  right: .2ex;\n",
       "  padding: .5ex;\n",
       "  margin: .5ex;\n",
       "  width: min-content;\n",
       "  min-width: 20ex;\n",
       "  max-width: 50ex;\n",
       "  color: var(--sklearn-color-text);\n",
       "  box-shadow: 2pt 2pt 4pt #999;\n",
       "  /* unfitted */\n",
       "  background: var(--sklearn-color-unfitted-level-0);\n",
       "  border: .5pt solid var(--sklearn-color-unfitted-level-3);\n",
       "}\n",
       "\n",
       ".sk-estimator-doc-link.fitted span {\n",
       "  /* fitted */\n",
       "  background: var(--sklearn-color-fitted-level-0);\n",
       "  border: var(--sklearn-color-fitted-level-3);\n",
       "}\n",
       "\n",
       ".sk-estimator-doc-link:hover span {\n",
       "  display: block;\n",
       "}\n",
       "\n",
       "/* \"?\"-specific style due to the `<a>` HTML tag */\n",
       "\n",
       "#sk-container-id-2 a.estimator_doc_link {\n",
       "  float: right;\n",
       "  font-size: 1rem;\n",
       "  line-height: 1em;\n",
       "  font-family: monospace;\n",
       "  background-color: var(--sklearn-color-background);\n",
       "  border-radius: 1rem;\n",
       "  height: 1rem;\n",
       "  width: 1rem;\n",
       "  text-decoration: none;\n",
       "  /* unfitted */\n",
       "  color: var(--sklearn-color-unfitted-level-1);\n",
       "  border: var(--sklearn-color-unfitted-level-1) 1pt solid;\n",
       "}\n",
       "\n",
       "#sk-container-id-2 a.estimator_doc_link.fitted {\n",
       "  /* fitted */\n",
       "  border: var(--sklearn-color-fitted-level-1) 1pt solid;\n",
       "  color: var(--sklearn-color-fitted-level-1);\n",
       "}\n",
       "\n",
       "/* On hover */\n",
       "#sk-container-id-2 a.estimator_doc_link:hover {\n",
       "  /* unfitted */\n",
       "  background-color: var(--sklearn-color-unfitted-level-3);\n",
       "  color: var(--sklearn-color-background);\n",
       "  text-decoration: none;\n",
       "}\n",
       "\n",
       "#sk-container-id-2 a.estimator_doc_link.fitted:hover {\n",
       "  /* fitted */\n",
       "  background-color: var(--sklearn-color-fitted-level-3);\n",
       "}\n",
       "</style><div id=\"sk-container-id-2\" class=\"sk-top-container\"><div class=\"sk-text-repr-fallback\"><pre>LinearRegression()</pre><b>In a Jupyter environment, please rerun this cell to show the HTML representation or trust the notebook. <br />On GitHub, the HTML representation is unable to render, please try loading this page with nbviewer.org.</b></div><div class=\"sk-container\" hidden><div class=\"sk-item\"><div class=\"sk-estimator fitted sk-toggleable\"><input class=\"sk-toggleable__control sk-hidden--visually\" id=\"sk-estimator-id-2\" type=\"checkbox\" checked><label for=\"sk-estimator-id-2\" class=\"sk-toggleable__label fitted sk-toggleable__label-arrow fitted\">&nbsp;&nbsp;LinearRegression<a class=\"sk-estimator-doc-link fitted\" rel=\"noreferrer\" target=\"_blank\" href=\"https://scikit-learn.org/1.5/modules/generated/sklearn.linear_model.LinearRegression.html\">?<span>Documentation for LinearRegression</span></a><span class=\"sk-estimator-doc-link fitted\">i<span>Fitted</span></span></label><div class=\"sk-toggleable__content fitted\"><pre>LinearRegression()</pre></div> </div></div></div></div>"
      ],
      "text/plain": [
       "LinearRegression()"
      ]
     },
     "execution_count": 33,
     "metadata": {},
     "output_type": "execute_result"
    }
   ],
   "source": [
    "model = LinearRegression()\n",
    "model.fit(X_train, y_train) # ajusta o modelo usando o Mínimos Quadrados Ordinários (OLS)"
   ]
  },
  {
   "cell_type": "code",
   "execution_count": 34,
   "id": "7860ca0d-1ff4-45ee-bd81-c87efaa3485d",
   "metadata": {},
   "outputs": [
    {
     "name": "stdout",
     "output_type": "stream",
     "text": [
      "[1512.79850239 1888.69768572 2723.44588512 1927.0550305  3432.31071473\n",
      " 4096.20925685 3179.23332945 2315.0729364  2268.42015728 1540.93628594]\n",
      "[1660 2890 1800 1000 3000 6000 2500 1450 1550 1800]\n"
     ]
    }
   ],
   "source": [
    "features = X_train.iloc[:10] # amostra\n",
    "labels = y_train.iloc[:10]\n",
    "\n",
    "print(model.predict(features))\n",
    "print(labels.values)"
   ]
  },
  {
   "cell_type": "code",
   "execution_count": 35,
   "id": "0a930d9f-d7f9-4ae8-8683-091f873adc31",
   "metadata": {},
   "outputs": [],
   "source": [
    "predit = model.predict(X_train) # aplica a equação da regressão linear com os coeficientes ajustados"
   ]
  },
  {
   "cell_type": "code",
   "execution_count": 36,
   "id": "15e600e2-3323-4f3a-a1f3-e141023bff0a",
   "metadata": {},
   "outputs": [
    {
     "name": "stdout",
     "output_type": "stream",
     "text": [
      "Coeficiente: [ 3.22011482e-01  1.30632950e+01 -1.93727110e+02  1.98531887e+02\n",
      " -5.73932034e+01  1.66183838e+02 -1.22893567e+01  6.44087672e+02\n",
      "  3.67858166e+02 -1.39709273e+02]\n",
      "Intercepto: 624.9011610000025\n"
     ]
    }
   ],
   "source": [
    "coef = model.coef_\n",
    "intercept = model.intercept_\n",
    "print(\"Coeficiente:\", coef) # retorna o numero de vars independente usadas\n",
    "print(\"Intercepto:\", intercept) # o intercepto é o valor estimado quando todas as variáveis independentes são zero (abstrato)"
   ]
  },
  {
   "cell_type": "markdown",
   "id": "bba39237-dbc6-408a-bfeb-eb07135730e8",
   "metadata": {},
   "source": [
    "### 1. Mean-absolute-error"
   ]
  },
  {
   "cell_type": "markdown",
   "id": "62feb0ed-dc2b-4f51-861f-f210b6deaedb",
   "metadata": {},
   "source": [
    "Basicamente retorna a média dos erros (custo) absoluto entre valor real com o valor predito."
   ]
  },
  {
   "cell_type": "markdown",
   "id": "d8542da4-6ccc-4afe-b005-a36804cc6484",
   "metadata": {},
   "source": [
    "<img src=\"data:image/jpeg;base64,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\" alt=\"Descrição da Imagem\" style=\"width:400px;\"/>"
   ]
  },
  {
   "cell_type": "code",
   "execution_count": 37,
   "id": "e209136c-775c-4a8d-851a-d58d5fa1a673",
   "metadata": {},
   "outputs": [],
   "source": [
    "from sklearn.metrics import mean_absolute_error "
   ]
  },
  {
   "cell_type": "code",
   "execution_count": 38,
   "id": "0b8438a0-99d4-4dc2-9a46-b72af03def77",
   "metadata": {},
   "outputs": [],
   "source": [
    "mae = mean_absolute_error(y_train, predit)"
   ]
  },
  {
   "cell_type": "code",
   "execution_count": 39,
   "id": "5e082670-93ff-42fc-87df-77e02d017e2f",
   "metadata": {},
   "outputs": [
    {
     "name": "stdout",
     "output_type": "stream",
     "text": [
      "630.8108697927222\n"
     ]
    }
   ],
   "source": [
    "print(mae)"
   ]
  },
  {
   "cell_type": "markdown",
   "id": "92550e38-d952-4ebd-b259-acbdee97b352",
   "metadata": {},
   "source": [
    "### 2. Root Mean Squared Error"
   ]
  },
  {
   "cell_type": "markdown",
   "id": "ac849012-2da5-4bc1-95cd-0088c0eb816d",
   "metadata": {},
   "source": [
    "Retorna a raiz quadrada da médio dos erros ao quadrado, penaliza outliers."
   ]
  },
  {
   "cell_type": "markdown",
   "id": "cdf893eb-b4d3-49f2-bcd2-7ebcd69aa73c",
   "metadata": {},
   "source": [
    "<img src=\"https://editor.analyticsvidhya.com/uploads/56967RMSE.png\" alt=\"Descrição da Imagem\" style=\"width:400px;\"/>"
   ]
  },
  {
   "cell_type": "code",
   "execution_count": 40,
   "id": "03c8e213-3e68-4176-ac64-85037ac4405d",
   "metadata": {},
   "outputs": [],
   "source": [
    "from sklearn.metrics import root_mean_squared_error "
   ]
  },
  {
   "cell_type": "code",
   "execution_count": 41,
   "id": "1529901b-2426-455c-b858-dccec732709c",
   "metadata": {},
   "outputs": [],
   "source": [
    "rmse = root_mean_squared_error(y_train, predit)"
   ]
  },
  {
   "cell_type": "code",
   "execution_count": 42,
   "id": "4d5a69d3-e4e0-4d57-878f-42348c92d596",
   "metadata": {},
   "outputs": [
    {
     "data": {
      "text/plain": [
       "873.9412860238608"
      ]
     },
     "execution_count": 42,
     "metadata": {},
     "output_type": "execute_result"
    }
   ],
   "source": [
    "rmse"
   ]
  },
  {
   "cell_type": "markdown",
   "id": "c80a67ea-cc6f-4f7c-8891-8cb9dc408fe5",
   "metadata": {},
   "source": [
    "### 2. Cross-Validation: rmse"
   ]
  },
  {
   "cell_type": "markdown",
   "id": "270dc0db-317c-4a74-8b03-07deb97fb762",
   "metadata": {},
   "source": [
    "Usamos cross para dividir nossos dados de treinos em subconjuntos e medir a capacidade de generalização do modelo para conjuntos"
   ]
  },
  {
   "cell_type": "markdown",
   "id": "024c7b2a-223e-419e-abc0-d6006b825101",
   "metadata": {},
   "source": [
    "<img src=\"https://miro.medium.com/v2/resize:fit:792/1*yBTCy2j8VNzY8YumvlBUug.png\" alt=\"Descrição da Imagem\" style=\"width:400px;\"/>"
   ]
  },
  {
   "cell_type": "code",
   "execution_count": 43,
   "id": "215888bc-461b-4958-89ac-e57e2cf5bb0c",
   "metadata": {},
   "outputs": [],
   "source": [
    "from sklearn.model_selection import cross_val_score"
   ]
  },
  {
   "cell_type": "code",
   "execution_count": 44,
   "id": "5fe11af5-fb0b-4db4-9420-09a72e433e15",
   "metadata": {},
   "outputs": [],
   "source": [
    "scores_fold_rmse = cross_val_score(model, X_train, y_train, cv=5, scoring='neg_mean_squared_error')"
   ]
  },
  {
   "cell_type": "code",
   "execution_count": 45,
   "id": "8e428670-398e-4251-9145-a0a9bf621b25",
   "metadata": {},
   "outputs": [],
   "source": [
    "score_rmse = np.sqrt(-scores_fold_rmse)"
   ]
  },
  {
   "cell_type": "code",
   "execution_count": 46,
   "id": "910793a5-a80e-461f-a4a8-f2ad78b0c450",
   "metadata": {},
   "outputs": [],
   "source": [
    "def summary(socore):\n",
    "    print(socore)\n",
    "    print(socore.mean())"
   ]
  },
  {
   "cell_type": "code",
   "execution_count": 47,
   "id": "c4398ebc-b7f5-4272-941c-d1b1ff99f75a",
   "metadata": {},
   "outputs": [
    {
     "name": "stdout",
     "output_type": "stream",
     "text": [
      "[954.70104324 840.24248563 821.11947104 842.95659634 920.07367347]\n",
      "875.8186539446613\n"
     ]
    }
   ],
   "source": [
    "summary(score_rmse)"
   ]
  },
  {
   "cell_type": "markdown",
   "id": "ed34542a-4f17-410a-8c45-278b745f5385",
   "metadata": {},
   "source": [
    "### 2. Cross-Validation: mae"
   ]
  },
  {
   "cell_type": "code",
   "execution_count": 48,
   "id": "3c106ee3-89a4-454d-b1c6-6a30daadb0f3",
   "metadata": {},
   "outputs": [],
   "source": [
    "scores_fold_mae = cross_val_score(model, X_train, y_train, cv=5, scoring='neg_mean_absolute_error')"
   ]
  },
  {
   "cell_type": "code",
   "execution_count": 49,
   "id": "b1b19f79-af33-419c-871c-b667b783870e",
   "metadata": {},
   "outputs": [],
   "source": [
    "scores_fold_mae = -scores_fold_mae"
   ]
  },
  {
   "cell_type": "code",
   "execution_count": 50,
   "id": "f79b02f0-31c0-4f17-bd6b-43f154e234ec",
   "metadata": {},
   "outputs": [
    {
     "name": "stdout",
     "output_type": "stream",
     "text": [
      "[673.3429969  601.31163309 604.79248339 602.33203303 683.94298377]\n",
      "633.1444260348644\n"
     ]
    }
   ],
   "source": [
    "summary(scores_fold_mae)"
   ]
  },
  {
   "cell_type": "code",
   "execution_count": null,
   "id": "5b758582-d771-486b-8315-1194c24659be",
   "metadata": {},
   "outputs": [],
   "source": []
  }
 ],
 "metadata": {
  "kernelspec": {
   "display_name": "Python 3 (ipykernel)",
   "language": "python",
   "name": "python3"
  },
  "language_info": {
   "codemirror_mode": {
    "name": "ipython",
    "version": 3
   },
   "file_extension": ".py",
   "mimetype": "text/x-python",
   "name": "python",
   "nbconvert_exporter": "python",
   "pygments_lexer": "ipython3",
   "version": "3.10.12"
  }
 },
 "nbformat": 4,
 "nbformat_minor": 5
}
